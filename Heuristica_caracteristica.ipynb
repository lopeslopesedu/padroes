{
  "nbformat": 4,
  "nbformat_minor": 0,
  "metadata": {
    "colab": {
      "name": "Heuristica_caracteristica.ipynb",
      "provenance": [],
      "collapsed_sections": []
    },
    "kernelspec": {
      "name": "python3",
      "display_name": "Python 3"
    },
    "language_info": {
      "name": "python"
    }
  },
  "cells": [
    {
      "cell_type": "code",
      "metadata": {
        "id": "Mi1UkBj-UikK"
      },
      "source": [
        "from sklearn.datasets import  load_iris\n",
        "iris = load_iris()\n",
        "X, y = iris.data[:,2:], iris.target"
      ],
      "execution_count": 19,
      "outputs": []
    },
    {
      "cell_type": "code",
      "metadata": {
        "colab": {
          "base_uri": "https://localhost:8080/"
        },
        "id": "Yk-EGT_bUvWp",
        "outputId": "dbab31e5-0d10-4eb9-eb0b-11e3e9e516d6"
      },
      "source": [
        "X.shape,y.shape"
      ],
      "execution_count": 20,
      "outputs": [
        {
          "output_type": "execute_result",
          "data": {
            "text/plain": [
              "((150, 2), (150,))"
            ]
          },
          "metadata": {
            "tags": []
          },
          "execution_count": 20
        }
      ]
    },
    {
      "cell_type": "code",
      "metadata": {
        "id": "tK8DuNkBVVZC"
      },
      "source": [
        "import matplotlib.pyplot as plt\n",
        "def plotDecisao(modelo, X,y):\n",
        "  modelo.fit(X,y)\n",
        "  x0s = np.linspace(np.min(X[:,0])-0.2,np.max(X[:,0])+0.2,100)\n",
        "  x1s = np.linspace(np.min(X[:,1])-0.2,np.max(X[:,1])+0.2,100)\n",
        "  x0,x1 = np.meshgrid(x0s,x1s)\n",
        "  Xdec = np.c_[x0.ravel(),x1.ravel()]\n",
        "  ypred = modelo.predict(Xdec)\n",
        "  plt.contourf(x0,x1,ypred.reshape(x0.shape),alpha=0.25)\n",
        "  for k in set(y):\n",
        "    plt.plot(X[:,0][y==k],X[:,1][y==k],'o', label =f\"{iris.target_names[k]}[{k}]\")\n",
        "  plt.xlabel(f\"X[0]: {iris.feature_names[0]}\")\n",
        "  plt.ylabel(f\"X[1]: {iris.feature_names[1]}\")\n",
        "  plt.show()"
      ],
      "execution_count": 21,
      "outputs": []
    },
    {
      "cell_type": "markdown",
      "metadata": {
        "id": "eGq0fxzVYyIg"
      },
      "source": [
        "Faço a escolha da caracteristica de acordo com o desvio padrão.\n",
        "Fiz teste selecionando o menor e o maior.. e o melhor resultado foi encontrado selecionando o maior. Essa pode ser uma caracteristica especifica dessa base.. porém não conseguir pensa em outra forma de correlacionar os dados."
      ]
    },
    {
      "cell_type": "code",
      "metadata": {
        "id": "nCIyK6Oc9zfX"
      },
      "source": [
        "def melhorCaracteristica(X, y):\n",
        "    desvio_padrao = np.empty((X.shape[1]))\n",
        "    for i in range(X.shape[1]):\n",
        "        desvio_padrao[i] = np.std(X[:, i])    \n",
        "    valor = np.mean(X[:, np.argmax(desvio_padrao)])    \n",
        "    return np.argmax(desvio_padrao), valor"
      ],
      "execution_count": 22,
      "outputs": []
    },
    {
      "cell_type": "code",
      "metadata": {
        "colab": {
          "base_uri": "https://localhost:8080/",
          "height": 279
        },
        "id": "LtRGkhGcVbAm",
        "outputId": "d898e7db-1d9b-45d2-c5b2-1c68de8e94ef"
      },
      "source": [
        "from collections import Counter\n",
        "import numpy as np\n",
        "from sklearn.metrics import accuracy_score\n",
        "from sklearn.base import BaseEstimator, ClassifierMixin\n",
        "\n",
        "def maisFrequente(y):\n",
        "  return Counter(y.flat).most_common(1)[0][0]\n",
        "\n",
        "class Arvore(BaseEstimator,ClassifierMixin):\n",
        "  def fit(self,X,y):\n",
        "    self.caracteristica,self.valor =  melhorCaracteristica(X,y)\n",
        "    maiores = X[:,self.caracteristica] > self.valor\n",
        "    if sum(maiores)>0 and sum(~maiores)>0:\n",
        "      self.maiores = Arvore()\n",
        "      self.maiores.fit(X[maiores,:],y[maiores])\n",
        "      self.menores = Arvore()\n",
        "      self.menores.fit(X[~maiores,:], y[~maiores])\n",
        "    else:\n",
        "      self.resposta = maisFrequente(y)    \n",
        "  def predict(self,X):\n",
        "    y = np.empty((X.shape[0]))\n",
        "    if hasattr(self,'resposta'):\n",
        "      y[:] = self.resposta\n",
        "    else:\n",
        "      maiores = X[:,self.caracteristica] > self.valor\n",
        "      y[maiores] = self.maiores.predict(X[maiores,:])\n",
        "      y[~maiores] = self.menores.predict(X[~maiores,:])\n",
        "    return y\n",
        "  \n",
        "modelo = Arvore()\n",
        "modelo.fit(X,y)\n",
        "ypred = modelo.predict(X)\n",
        "\n",
        "plotDecisao(modelo, X, y)"
      ],
      "execution_count": 23,
      "outputs": [
        {
          "output_type": "display_data",
          "data": {
            "image/png": "[encoded data removed]",
            "text/plain": [
              "<Figure size 432x288 with 1 Axes>"
            ]
          },
          "metadata": {
            "tags": [],
            "needs_background": "light"
          }
        }
      ]
    },
    {
      "cell_type": "code",
      "metadata": {
        "colab": {
          "base_uri": "https://localhost:8080/"
        },
        "id": "Xrr5iQnO-9y1",
        "outputId": "83e07d70-dbfb-4717-9da1-347b6f632773"
      },
      "source": [
        "print(\"Accuracy: \", accuracy_score(y, ypred))"
      ],
      "execution_count": 24,
      "outputs": [
        {
          "output_type": "stream",
          "text": [
            "Accuracy:  0.9933333333333333\n"
          ],
          "name": "stdout"
        }
      ]
    },
    {
      "cell_type": "markdown",
      "metadata": {
        "id": "Kilk8sp1X_7P"
      },
      "source": [
        "A heuristica escolhida obteve 99,3% de acurácia.. o resultado pode ser visualizado no gráfico acima. sendo quase imperceptivel o erro que não deixou ser 100%. Tendo em vista que a heurística do vídeo obteve acuária de 95%, acredito que essa abordagem foi um pouco melhor... porém pode ser apenas uma coincidência... tendo em vista que levar em conta fatores como impureza e outras caracteristicas podem ser mais genéricos, para conseguir melhores resultados em outras bases de dados."
      ]
    },
    {
      "cell_type": "markdown",
      "metadata": {
        "id": "CK010SCJUs-T"
      },
      "source": [
        "Também faça comparações usando validação cruzada com pelo menos 3 bases de classificação com atributos contínuos."
      ]
    },
    {
      "cell_type": "markdown",
      "metadata": {
        "id": "epczX7joU0Z9"
      },
      "source": [
        "Base 1 - Haberman Cancer Survival data set\n",
        "Link do dataset   https://www.kaggle.com/krpiku/haberman.csv\n",
        "Description: The data set contains cases from a study that was conducted between 1958 and 1970 at the University of Chicago's Billings Hospital on the survival of patients who had undergone surgery for breast cancer."
      ]
    },
    {
      "cell_type": "code",
      "metadata": {
        "colab": {
          "base_uri": "https://localhost:8080/"
        },
        "id": "4n55u2YpBFmD",
        "outputId": "929409b4-254c-453a-d36d-4a2767b12974"
      },
      "source": [
        "import pandas as pd\n",
        "data_01 = pd.read_csv(\"https://raw.githubusercontent.com/lopeslopesedu/padroes/main/haberman.csv\",sep =\",\")\n",
        "\n",
        "data_01.shape"
      ],
      "execution_count": 25,
      "outputs": [
        {
          "output_type": "execute_result",
          "data": {
            "text/plain": [
              "(305, 4)"
            ]
          },
          "metadata": {
            "tags": []
          },
          "execution_count": 25
        }
      ]
    },
    {
      "cell_type": "code",
      "metadata": {
        "id": "fbHqrrLkSaHz"
      },
      "source": [
        "data_01 = np.array(data_01)"
      ],
      "execution_count": 26,
      "outputs": []
    },
    {
      "cell_type": "code",
      "metadata": {
        "colab": {
          "base_uri": "https://localhost:8080/"
        },
        "id": "5YCJlGSOKxE_",
        "outputId": "59a00f74-8181-42b9-8add-348a64f6d513"
      },
      "source": [
        "X, y = data_01[0:, 0:-1], data_01[:, -1]\n",
        "X.shape, y.shape"
      ],
      "execution_count": 27,
      "outputs": [
        {
          "output_type": "execute_result",
          "data": {
            "text/plain": [
              "((305, 3), (305,))"
            ]
          },
          "metadata": {
            "tags": []
          },
          "execution_count": 27
        }
      ]
    },
    {
      "cell_type": "code",
      "metadata": {
        "colab": {
          "base_uri": "https://localhost:8080/"
        },
        "id": "FzgrPewSK0la",
        "outputId": "61464203-2323-4154-acb4-14b6c1920d1f"
      },
      "source": [
        "from sklearn.model_selection import cross_validate\n",
        "scores = cross_validate(modelo, X, y)\n",
        "scores['test_score'], np.mean(scores['test_score'])"
      ],
      "execution_count": 28,
      "outputs": [
        {
          "output_type": "execute_result",
          "data": {
            "text/plain": [
              "(array([0.72131148, 0.47540984, 0.70491803, 0.68852459, 0.6557377 ]),\n",
              " 0.6491803278688524)"
            ]
          },
          "metadata": {
            "tags": []
          },
          "execution_count": 28
        }
      ]
    },
    {
      "cell_type": "markdown",
      "metadata": {
        "id": "ZrRQ1oQRUYa1"
      },
      "source": [
        "Base 2 - Health care: Data set on Heart attack possibility\n",
        "https://www.kaggle.com/nareshbhat/health-care-data-set-on-heart-attack-possibility\n",
        "About data set\n",
        "This database contains 76 attributes, but all published experiments refer to using a subset of 14 of them. In particular, the Cleveland database is the only one that has been used by ML researchers to\n",
        "this date.The \"target\" field refers to the presence of heart disease in the patient. It is integer valued 0 = no/less chance of heart attack and 1 = more chance of heart attack"
      ]
    },
    {
      "cell_type": "code",
      "metadata": {
        "colab": {
          "base_uri": "https://localhost:8080/"
        },
        "id": "6sx8iAjUSsFW",
        "outputId": "96b9e0eb-0fc3-46d9-98c3-2e4e327d35f5"
      },
      "source": [
        "data_02 = pd.read_csv(\"https://raw.githubusercontent.com/lopeslopesedu/padroes/main/heart2.csv\",sep =\",\")\n",
        "\n",
        "data_02.shape"
      ],
      "execution_count": 11,
      "outputs": [
        {
          "output_type": "execute_result",
          "data": {
            "text/plain": [
              "(302, 14)"
            ]
          },
          "metadata": {
            "tags": []
          },
          "execution_count": 11
        }
      ]
    },
    {
      "cell_type": "code",
      "metadata": {
        "id": "nkOKHmndSy6F"
      },
      "source": [
        "data_02 = np.array(data_02)"
      ],
      "execution_count": 12,
      "outputs": []
    },
    {
      "cell_type": "code",
      "metadata": {
        "colab": {
          "base_uri": "https://localhost:8080/"
        },
        "id": "ktLoM26tS1f6",
        "outputId": "15d51124-dd56-4963-92e0-495173aa5c26"
      },
      "source": [
        "X, y = data_02[0:, 0:-1], data_02[:, -1]\n",
        "X.shape, y.shape"
      ],
      "execution_count": 13,
      "outputs": [
        {
          "output_type": "execute_result",
          "data": {
            "text/plain": [
              "((302, 13), (302,))"
            ]
          },
          "metadata": {
            "tags": []
          },
          "execution_count": 13
        }
      ]
    },
    {
      "cell_type": "code",
      "metadata": {
        "colab": {
          "base_uri": "https://localhost:8080/"
        },
        "id": "Neq-dWucS5fD",
        "outputId": "f800aff2-c764-408d-af0f-03cc0e4645dc"
      },
      "source": [
        "scores = cross_validate(modelo, X, y)\n",
        "scores['test_score'], np.mean(scores['test_score'])"
      ],
      "execution_count": 14,
      "outputs": [
        {
          "output_type": "execute_result",
          "data": {
            "text/plain": [
              "(array([0.6557377 , 0.49180328, 0.58333333, 0.56666667, 0.58333333]),\n",
              " 0.5761748633879782)"
            ]
          },
          "metadata": {
            "tags": []
          },
          "execution_count": 14
        }
      ]
    },
    {
      "cell_type": "markdown",
      "metadata": {
        "id": "_kex8YSdUZuo"
      },
      "source": [
        "Base 3 - Pima Indians Diabetes Database\n",
        "https://www.kaggle.com/uciml/pima-indians-diabetes-database\n",
        "This dataset is originally from the National Institute of Diabetes and Digestive and Kidney Diseases. The objective of the dataset is to diagnostically predict whether or not a patient has diabetes, based on certain diagnostic measurements included in the dataset. Several constraints were placed on the selection of these instances from a larger database. In particular, all patients here are females at least 21 years old of Pima Indian heritage."
      ]
    },
    {
      "cell_type": "code",
      "metadata": {
        "colab": {
          "base_uri": "https://localhost:8080/"
        },
        "id": "OPMyrnABUbnc",
        "outputId": "4c4521d0-7378-4f23-eff1-6fb19f055018"
      },
      "source": [
        "data_03 = pd.read_csv(\"https://raw.githubusercontent.com/lopeslopesedu/padroes/main/diabetes.csv\",sep =\",\")\n",
        "\n",
        "data_03.shape"
      ],
      "execution_count": 15,
      "outputs": [
        {
          "output_type": "execute_result",
          "data": {
            "text/plain": [
              "(768, 9)"
            ]
          },
          "metadata": {
            "tags": []
          },
          "execution_count": 15
        }
      ]
    },
    {
      "cell_type": "code",
      "metadata": {
        "id": "7-XeKLSnUheb"
      },
      "source": [
        "data_03 = np.array(data_03)"
      ],
      "execution_count": 16,
      "outputs": []
    },
    {
      "cell_type": "code",
      "metadata": {
        "colab": {
          "base_uri": "https://localhost:8080/"
        },
        "id": "JAZWBDTRUkzI",
        "outputId": "51b2ec3d-f2e9-4541-e1b6-b7421bb92dc1"
      },
      "source": [
        "X, y = data_03[0:, 0:-1], data_03[:, -1]\n",
        "X.shape, y.shape"
      ],
      "execution_count": 17,
      "outputs": [
        {
          "output_type": "execute_result",
          "data": {
            "text/plain": [
              "((768, 8), (768,))"
            ]
          },
          "metadata": {
            "tags": []
          },
          "execution_count": 17
        }
      ]
    },
    {
      "cell_type": "code",
      "metadata": {
        "colab": {
          "base_uri": "https://localhost:8080/"
        },
        "id": "KLmurcAdUn6H",
        "outputId": "4573be8a-6fd6-4864-a591-da80b861e449"
      },
      "source": [
        "scores = cross_validate(modelo, X, y)\n",
        "scores['test_score'], np.mean(scores['test_score'])"
      ],
      "execution_count": 18,
      "outputs": [
        {
          "output_type": "execute_result",
          "data": {
            "text/plain": [
              "(array([0.62987013, 0.68831169, 0.72077922, 0.7124183 , 0.69934641]),\n",
              " 0.6901451489686785)"
            ]
          },
          "metadata": {
            "tags": []
          },
          "execution_count": 18
        }
      ]
    },
    {
      "cell_type": "markdown",
      "metadata": {
        "id": "vKtm6QB2V266"
      },
      "source": [
        "Escreva um parágrafo expondo sua interpretação dos resultados obtidos:"
      ]
    },
    {
      "cell_type": "markdown",
      "metadata": {
        "id": "dwGRhXx9V7Nt"
      },
      "source": [
        "Levando em conta os resultados obtidos pelas bases:\n",
        "\n",
        "1.   Base 1 : 64%\n",
        "2.   Base 2 : 57%\n",
        "3.   Base 3 : 69%\n",
        "\n",
        "Acredito que o resultado possa está correlacionado ao comportamento das amostras.. como a abordagem utilizada foi utilizar a caracteristica com maior desvio padrão... sem ter feito nenhum tratamento especifico no conjunto de dados, isso pode ter influenciado diretamente os resultados obtidos. A base 2 era a que continha mais caracteristicas e mesmo assim foi a que obteve o pior resultado, pois provalmente nessa abordagem a caracteristica escolhida pode ser uma que não influencia tanto como as outras.\n",
        "\n",
        "\n",
        "\n",
        "\n",
        "\n"
      ]
    },
    {
      "cell_type": "code",
      "metadata": {
        "id": "mgGIHbWDWbGz"
      },
      "source": [
        ""
      ],
      "execution_count": 18,
      "outputs": []
    }
  ]
}