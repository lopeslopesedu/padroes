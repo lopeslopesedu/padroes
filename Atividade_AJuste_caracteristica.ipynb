{
  "nbformat": 4,
  "nbformat_minor": 0,
  "metadata": {
    "colab": {
      "name": "Atividade_AJuste_caracteristica.ipynb",
      "provenance": [],
      "collapsed_sections": []
    },
    "kernelspec": {
      "name": "python3",
      "display_name": "Python 3"
    },
    "language_info": {
      "name": "python"
    }
  },
  "cells": [
    {
      "cell_type": "code",
      "metadata": {
        "id": "bo9h6Jp7Dmei"
      },
      "source": [
        "import pandas as pd\n",
        "\n",
        "train  = pd.read_csv(\"https://raw.githubusercontent.com/lopeslopesedu/padroes/main/train.csv\",sep =\",\")\n",
        "test = pd.read_csv(\"https://raw.githubusercontent.com/lopeslopesedu/padroes/main/test.csv\",sep =\",\")\n",
        "X = train[list(test.columns)]\n",
        "y = train[train.columns[~train.columns.isin(test.columns)]]"
      ],
      "execution_count": 22,
      "outputs": []
    },
    {
      "cell_type": "code",
      "metadata": {
        "id": "4j6okm9dDtzP"
      },
      "source": [
        "from sklearn.base import BaseEstimator, TransformerMixin\n",
        "\n",
        "def extraiPronome(nome):\n",
        "    return nome.split(',')[1].split('.')[0].strip()\n",
        "\n",
        "class AtributosDesejados(BaseEstimator, TransformerMixin):\n",
        "    def __init__(self, excluirName=True):\n",
        "        self.excluirName = excluirName\n",
        "    def fit(self, X, y=None):\n",
        "        self.colunasIndesejadas = ['PassengerId', 'Ticket', 'Cabin']\n",
        "        if self.excluirName:\n",
        "            self.colunasIndesejadas.append('Name')\n",
        "        return self\n",
        "    def transform(self, X, y=None):\n",
        "        Xdrop = X.drop(self.colunasIndesejadas,axis=1)\n",
        "        if 'Name' not in self.colunasIndesejadas:\n",
        "            Xdrop['Name'] = Xdrop['Name'].apply(extraiPronome)\n",
        "        return Xdrop"
      ],
      "execution_count": 23,
      "outputs": []
    },
    {
      "cell_type": "code",
      "metadata": {
        "id": "bi8NvzweDv6J"
      },
      "source": [
        "from sklearn.base import BaseEstimator, TransformerMixin\n",
        "\n",
        "class AtributosNumericos(BaseEstimator, TransformerMixin):\n",
        "    def fit(self, X, y=None):\n",
        "        self.colunasNumericas = X.select_dtypes(include='number').columns\n",
        "        return self\n",
        "    def transform(self, X, y=None):\n",
        "        return X[self.colunasNumericas].to_numpy()"
      ],
      "execution_count": 24,
      "outputs": []
    },
    {
      "cell_type": "code",
      "metadata": {
        "id": "8RJQbQOKDzhW"
      },
      "source": [
        "from sklearn.base import BaseEstimator, TransformerMixin\n",
        "\n",
        "class AtributosCategoricos(BaseEstimator, TransformerMixin):\n",
        "    def fit(self, X, y=None):\n",
        "        self.colunasCategoricas = X.select_dtypes(include='object').columns\n",
        "        return self\n",
        "    def transform(self, X, y=None):\n",
        "        return X[self.colunasCategoricas].to_numpy()"
      ],
      "execution_count": 25,
      "outputs": []
    },
    {
      "cell_type": "code",
      "metadata": {
        "id": "RFBySTz1D1NI"
      },
      "source": [
        "from sklearn.impute import SimpleImputer\n",
        "from sklearn.preprocessing import OneHotEncoder, StandardScaler\n",
        "from sklearn.pipeline import Pipeline, FeatureUnion\n",
        "\n",
        "trataAtributos = Pipeline([\n",
        "    ('unecaracteristicas', FeatureUnion([\n",
        "        ('pipenum', Pipeline([\n",
        "            ('atributos_numericos', AtributosNumericos()),\n",
        "            ('imputer', SimpleImputer(strategy='median')),\n",
        "            ('scaler', StandardScaler())\n",
        "        ])),\n",
        "        ('pipecat', Pipeline([\n",
        "            ('atributos_categoricos', AtributosCategoricos()),\n",
        "            ('imputer', SimpleImputer(strategy='most_frequent')),\n",
        "            ('encoder', OneHotEncoder(handle_unknown='ignore'))\n",
        "        ]))\n",
        "    ])),\n",
        "])"
      ],
      "execution_count": 26,
      "outputs": []
    },
    {
      "cell_type": "code",
      "metadata": {
        "id": "Hox4bURQD2we",
        "colab": {
          "base_uri": "https://localhost:8080/"
        },
        "outputId": "73d113e8-c119-4644-d94a-77ef65019bf8"
      },
      "source": [
        "from sklearn.ensemble import RandomForestClassifier\n",
        "from sklearn.model_selection import GridSearchCV, cross_validate, RepeatedKFold\n",
        "import numpy as np\n",
        "\n",
        "pipetotal = Pipeline([\n",
        "    ('atributosDesejados', AtributosDesejados()),\n",
        "    ('trataAtributos', trataAtributos),\n",
        "    ('classificador', RandomForestClassifier())\n",
        "])\n",
        "\n",
        "parametros = {\n",
        "    'atributosDesejados__excluirName': [True, False],\n",
        "    'classificador__max_depth': [7, 14, 21]\n",
        "}\n",
        "modelo = GridSearchCV(pipetotal, param_grid=parametros, n_jobs=-1, scoring='roc_auc_ovo_weighted', refit=True)\n",
        "\n",
        "scores = cross_validate(modelo, X, y.to_numpy().ravel(), cv=RepeatedKFold())\n",
        "scores['test_score'], np.mean(scores['test_score']), np.std(scores['test_score'])"
      ],
      "execution_count": 27,
      "outputs": [
        {
          "output_type": "execute_result",
          "data": {
            "text/plain": [
              "(array([0.87522936, 0.86434949, 0.88767123, 0.84760006, 0.88079096,\n",
              "        0.8738915 , 0.88046255, 0.84186521, 0.90086898, 0.85336317,\n",
              "        0.84499205, 0.85148061, 0.87277059, 0.87640374, 0.88778088,\n",
              "        0.84949377, 0.92362151, 0.86102614, 0.8576269 , 0.85074013,\n",
              "        0.82570513, 0.88727911, 0.85181492, 0.87979024, 0.91764535,\n",
              "        0.84266409, 0.84462933, 0.8748065 , 0.90815508, 0.85086207,\n",
              "        0.89942529, 0.87123441, 0.89943741, 0.83710007, 0.8529106 ,\n",
              "        0.88414149, 0.87896825, 0.87409504, 0.88472222, 0.8310559 ,\n",
              "        0.87238304, 0.83958585, 0.85869413, 0.9160579 , 0.82705502,\n",
              "        0.84130266, 0.89029126, 0.87375648, 0.88181309, 0.83516771]),\n",
              " 0.8682915700552263,\n",
              " 0.02415857414674661)"
            ]
          },
          "metadata": {
            "tags": []
          },
          "execution_count": 27
        }
      ]
    },
    {
      "cell_type": "code",
      "metadata": {
        "id": "OAUjSAiKD4aC"
      },
      "source": [
        "modelo.fit(X,y.to_numpy().ravel())\n",
        "y_pred = modelo.predict(test)\n",
        "result = pd.DataFrame()\n",
        "result['PassengerId'] = test.loc[0:,'PassengerId']\n",
        "result['Survived'] = y_pred\n",
        "result.to_csv('submission_eduardo_Santos_lopes.csv',index=False)"
      ],
      "execution_count": 28,
      "outputs": []
    }
  ]
}