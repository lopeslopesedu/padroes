{
  "nbformat": 4,
  "nbformat_minor": 0,
  "metadata": {
    "colab": {
      "name": "Ensembles.ipynb",
      "provenance": [],
      "collapsed_sections": []
    },
    "kernelspec": {
      "name": "python3",
      "display_name": "Python 3"
    },
    "language_info": {
      "name": "python"
    }
  },
  "cells": [
    {
      "cell_type": "code",
      "metadata": {
        "colab": {
          "base_uri": "https://localhost:8080/",
          "height": 195
        },
        "id": "iiF7Va2MfWZT",
        "outputId": "b7d6461d-aed9-44ed-f8fa-783f80ad76de"
      },
      "source": [
        "import pandas as pd\n",
        "data_cardio = pd.read_csv(\"https://raw.githubusercontent.com/lopeslopesedu/padroes/main/cardio_train.csv\", sep=\";\")\n",
        "data_cardio.head()"
      ],
      "execution_count": 1,
      "outputs": [
        {
          "output_type": "execute_result",
          "data": {
            "text/html": [
              "<div>\n",
              "<style scoped>\n",
              "    .dataframe tbody tr th:only-of-type {\n",
              "        vertical-align: middle;\n",
              "    }\n",
              "\n",
              "    .dataframe tbody tr th {\n",
              "        vertical-align: top;\n",
              "    }\n",
              "\n",
              "    .dataframe thead th {\n",
              "        text-align: right;\n",
              "    }\n",
              "</style>\n",
              "<table border=\"1\" class=\"dataframe\">\n",
              "  <thead>\n",
              "    <tr style=\"text-align: right;\">\n",
              "      <th></th>\n",
              "      <th>id</th>\n",
              "      <th>age</th>\n",
              "      <th>gender</th>\n",
              "      <th>height</th>\n",
              "      <th>weight</th>\n",
              "      <th>ap_hi</th>\n",
              "      <th>ap_lo</th>\n",
              "      <th>cholesterol</th>\n",
              "      <th>gluc</th>\n",
              "      <th>smoke</th>\n",
              "      <th>alco</th>\n",
              "      <th>active</th>\n",
              "      <th>cardio</th>\n",
              "    </tr>\n",
              "  </thead>\n",
              "  <tbody>\n",
              "    <tr>\n",
              "      <th>0</th>\n",
              "      <td>0</td>\n",
              "      <td>18393</td>\n",
              "      <td>2</td>\n",
              "      <td>168</td>\n",
              "      <td>62.0</td>\n",
              "      <td>110</td>\n",
              "      <td>80</td>\n",
              "      <td>1</td>\n",
              "      <td>1</td>\n",
              "      <td>0</td>\n",
              "      <td>0</td>\n",
              "      <td>1</td>\n",
              "      <td>0</td>\n",
              "    </tr>\n",
              "    <tr>\n",
              "      <th>1</th>\n",
              "      <td>1</td>\n",
              "      <td>20228</td>\n",
              "      <td>1</td>\n",
              "      <td>156</td>\n",
              "      <td>85.0</td>\n",
              "      <td>140</td>\n",
              "      <td>90</td>\n",
              "      <td>3</td>\n",
              "      <td>1</td>\n",
              "      <td>0</td>\n",
              "      <td>0</td>\n",
              "      <td>1</td>\n",
              "      <td>1</td>\n",
              "    </tr>\n",
              "    <tr>\n",
              "      <th>2</th>\n",
              "      <td>2</td>\n",
              "      <td>18857</td>\n",
              "      <td>1</td>\n",
              "      <td>165</td>\n",
              "      <td>64.0</td>\n",
              "      <td>130</td>\n",
              "      <td>70</td>\n",
              "      <td>3</td>\n",
              "      <td>1</td>\n",
              "      <td>0</td>\n",
              "      <td>0</td>\n",
              "      <td>0</td>\n",
              "      <td>1</td>\n",
              "    </tr>\n",
              "    <tr>\n",
              "      <th>3</th>\n",
              "      <td>3</td>\n",
              "      <td>17623</td>\n",
              "      <td>2</td>\n",
              "      <td>169</td>\n",
              "      <td>82.0</td>\n",
              "      <td>150</td>\n",
              "      <td>100</td>\n",
              "      <td>1</td>\n",
              "      <td>1</td>\n",
              "      <td>0</td>\n",
              "      <td>0</td>\n",
              "      <td>1</td>\n",
              "      <td>1</td>\n",
              "    </tr>\n",
              "    <tr>\n",
              "      <th>4</th>\n",
              "      <td>4</td>\n",
              "      <td>17474</td>\n",
              "      <td>1</td>\n",
              "      <td>156</td>\n",
              "      <td>56.0</td>\n",
              "      <td>100</td>\n",
              "      <td>60</td>\n",
              "      <td>1</td>\n",
              "      <td>1</td>\n",
              "      <td>0</td>\n",
              "      <td>0</td>\n",
              "      <td>0</td>\n",
              "      <td>0</td>\n",
              "    </tr>\n",
              "  </tbody>\n",
              "</table>\n",
              "</div>"
            ],
            "text/plain": [
              "   id    age  gender  height  weight  ...  gluc  smoke  alco  active  cardio\n",
              "0   0  18393       2     168    62.0  ...     1      0     0       1       0\n",
              "1   1  20228       1     156    85.0  ...     1      0     0       1       1\n",
              "2   2  18857       1     165    64.0  ...     1      0     0       0       1\n",
              "3   3  17623       2     169    82.0  ...     1      0     0       1       1\n",
              "4   4  17474       1     156    56.0  ...     1      0     0       0       0\n",
              "\n",
              "[5 rows x 13 columns]"
            ]
          },
          "metadata": {
            "tags": []
          },
          "execution_count": 1
        }
      ]
    },
    {
      "cell_type": "code",
      "metadata": {
        "id": "05yfXEqUg83H"
      },
      "source": [
        "X, y = data_cardio.drop(['cardio'], axis=1, inplace=False), data_cardio['cardio']"
      ],
      "execution_count": 3,
      "outputs": []
    },
    {
      "cell_type": "code",
      "metadata": {
        "colab": {
          "base_uri": "https://localhost:8080/"
        },
        "id": "cC8_Qi-N8MpG",
        "outputId": "aca80006-d9ee-4c69-ba03-7376e817a475"
      },
      "source": [
        "X.shape"
      ],
      "execution_count": 4,
      "outputs": [
        {
          "output_type": "execute_result",
          "data": {
            "text/plain": [
              "(70000, 12)"
            ]
          },
          "metadata": {
            "tags": []
          },
          "execution_count": 4
        }
      ]
    },
    {
      "cell_type": "code",
      "metadata": {
        "id": "F9dRUnsQwVsm"
      },
      "source": [
        "from sklearn.model_selection import train_test_split\n",
        "X_train, X_test, y_train, y_test = train_test_split(X, y, random_state=31, shuffle=True)"
      ],
      "execution_count": 5,
      "outputs": []
    },
    {
      "cell_type": "code",
      "metadata": {
        "id": "N5yW4cuZhG13"
      },
      "source": [
        "from sklearn.ensemble import VotingClassifier\n",
        "from sklearn.tree import DecisionTreeClassifier\n",
        "from sklearn.neighbors import KNeighborsClassifier\n",
        "from sklearn.ensemble import RandomForestClassifier\n",
        "from sklearn.pipeline import Pipeline\n",
        "from sklearn.model_selection import GridSearchCV\n",
        "from sklearn.model_selection import cross_validate\n",
        "vt_class =  VotingClassifier([('KNN', KNeighborsClassifier()), ('TREE', DecisionTreeClassifier()), ('RF', RandomForestClassifier())], n_jobs=-1)\n",
        "pipeline = Pipeline([('ensemble', vt_class)])\n",
        "parametros = {'ensemble__KNN__n_neighbors':[7,14],'ensemble__RF__max_depth':[7,14],'ensemble__RF__criterion' :['gini', 'entropy']}\n",
        "modelo_parametrizado = GridSearchCV(pipeline, param_grid=parametros, return_train_score = True, n_jobs=-1)\n",
        "scores_vt = cross_validate(modelo_parametrizado, X_train, y_train, return_estimator=True)"
      ],
      "execution_count": 6,
      "outputs": []
    },
    {
      "cell_type": "code",
      "metadata": {
        "colab": {
          "base_uri": "https://localhost:8080/"
        },
        "id": "kBwm6qT9iKfW",
        "outputId": "4f780085-8ae0-4497-8df1-7fc60d36f694"
      },
      "source": [
        "import numpy as np\n",
        "scores_vt, np.mean(scores_vt['test_score'])"
      ],
      "execution_count": 7,
      "outputs": [
        {
          "output_type": "execute_result",
          "data": {
            "text/plain": [
              "({'estimator': (GridSearchCV(cv=None, error_score=nan,\n",
              "                estimator=Pipeline(memory=None,\n",
              "                                   steps=[('ensemble',\n",
              "                                           VotingClassifier(estimators=[('KNN',\n",
              "                                                                         KNeighborsClassifier(algorithm='auto',\n",
              "                                                                                              leaf_size=30,\n",
              "                                                                                              metric='minkowski',\n",
              "                                                                                              metric_params=None,\n",
              "                                                                                              n_jobs=None,\n",
              "                                                                                              n_neighbors=5,\n",
              "                                                                                              p=2,\n",
              "                                                                                              weights='uniform')),\n",
              "                                                                        ('TREE',\n",
              "                                                                         DecisionTreeClassifier(ccp_alpha=0.0,\n",
              "                                                                                                class_weight=None,\n",
              "                                                                                                criterion='gini',\n",
              "                                                                                                max_dept...\n",
              "                                                                                                random_state=None,\n",
              "                                                                                                verbose=0,\n",
              "                                                                                                warm_start=False))],\n",
              "                                                            flatten_transform=True,\n",
              "                                                            n_jobs=-1,\n",
              "                                                            voting='hard',\n",
              "                                                            weights=None))],\n",
              "                                   verbose=False),\n",
              "                iid='deprecated', n_jobs=-1,\n",
              "                param_grid={'ensemble__KNN__n_neighbors': [7, 14],\n",
              "                            'ensemble__RF__criterion': ['gini', 'entropy'],\n",
              "                            'ensemble__RF__max_depth': [7, 14]},\n",
              "                pre_dispatch='2*n_jobs', refit=True, return_train_score=True,\n",
              "                scoring=None, verbose=0),\n",
              "   GridSearchCV(cv=None, error_score=nan,\n",
              "                estimator=Pipeline(memory=None,\n",
              "                                   steps=[('ensemble',\n",
              "                                           VotingClassifier(estimators=[('KNN',\n",
              "                                                                         KNeighborsClassifier(algorithm='auto',\n",
              "                                                                                              leaf_size=30,\n",
              "                                                                                              metric='minkowski',\n",
              "                                                                                              metric_params=None,\n",
              "                                                                                              n_jobs=None,\n",
              "                                                                                              n_neighbors=5,\n",
              "                                                                                              p=2,\n",
              "                                                                                              weights='uniform')),\n",
              "                                                                        ('TREE',\n",
              "                                                                         DecisionTreeClassifier(ccp_alpha=0.0,\n",
              "                                                                                                class_weight=None,\n",
              "                                                                                                criterion='gini',\n",
              "                                                                                                max_dept...\n",
              "                                                                                                random_state=None,\n",
              "                                                                                                verbose=0,\n",
              "                                                                                                warm_start=False))],\n",
              "                                                            flatten_transform=True,\n",
              "                                                            n_jobs=-1,\n",
              "                                                            voting='hard',\n",
              "                                                            weights=None))],\n",
              "                                   verbose=False),\n",
              "                iid='deprecated', n_jobs=-1,\n",
              "                param_grid={'ensemble__KNN__n_neighbors': [7, 14],\n",
              "                            'ensemble__RF__criterion': ['gini', 'entropy'],\n",
              "                            'ensemble__RF__max_depth': [7, 14]},\n",
              "                pre_dispatch='2*n_jobs', refit=True, return_train_score=True,\n",
              "                scoring=None, verbose=0),\n",
              "   GridSearchCV(cv=None, error_score=nan,\n",
              "                estimator=Pipeline(memory=None,\n",
              "                                   steps=[('ensemble',\n",
              "                                           VotingClassifier(estimators=[('KNN',\n",
              "                                                                         KNeighborsClassifier(algorithm='auto',\n",
              "                                                                                              leaf_size=30,\n",
              "                                                                                              metric='minkowski',\n",
              "                                                                                              metric_params=None,\n",
              "                                                                                              n_jobs=None,\n",
              "                                                                                              n_neighbors=5,\n",
              "                                                                                              p=2,\n",
              "                                                                                              weights='uniform')),\n",
              "                                                                        ('TREE',\n",
              "                                                                         DecisionTreeClassifier(ccp_alpha=0.0,\n",
              "                                                                                                class_weight=None,\n",
              "                                                                                                criterion='gini',\n",
              "                                                                                                max_dept...\n",
              "                                                                                                random_state=None,\n",
              "                                                                                                verbose=0,\n",
              "                                                                                                warm_start=False))],\n",
              "                                                            flatten_transform=True,\n",
              "                                                            n_jobs=-1,\n",
              "                                                            voting='hard',\n",
              "                                                            weights=None))],\n",
              "                                   verbose=False),\n",
              "                iid='deprecated', n_jobs=-1,\n",
              "                param_grid={'ensemble__KNN__n_neighbors': [7, 14],\n",
              "                            'ensemble__RF__criterion': ['gini', 'entropy'],\n",
              "                            'ensemble__RF__max_depth': [7, 14]},\n",
              "                pre_dispatch='2*n_jobs', refit=True, return_train_score=True,\n",
              "                scoring=None, verbose=0),\n",
              "   GridSearchCV(cv=None, error_score=nan,\n",
              "                estimator=Pipeline(memory=None,\n",
              "                                   steps=[('ensemble',\n",
              "                                           VotingClassifier(estimators=[('KNN',\n",
              "                                                                         KNeighborsClassifier(algorithm='auto',\n",
              "                                                                                              leaf_size=30,\n",
              "                                                                                              metric='minkowski',\n",
              "                                                                                              metric_params=None,\n",
              "                                                                                              n_jobs=None,\n",
              "                                                                                              n_neighbors=5,\n",
              "                                                                                              p=2,\n",
              "                                                                                              weights='uniform')),\n",
              "                                                                        ('TREE',\n",
              "                                                                         DecisionTreeClassifier(ccp_alpha=0.0,\n",
              "                                                                                                class_weight=None,\n",
              "                                                                                                criterion='gini',\n",
              "                                                                                                max_dept...\n",
              "                                                                                                random_state=None,\n",
              "                                                                                                verbose=0,\n",
              "                                                                                                warm_start=False))],\n",
              "                                                            flatten_transform=True,\n",
              "                                                            n_jobs=-1,\n",
              "                                                            voting='hard',\n",
              "                                                            weights=None))],\n",
              "                                   verbose=False),\n",
              "                iid='deprecated', n_jobs=-1,\n",
              "                param_grid={'ensemble__KNN__n_neighbors': [7, 14],\n",
              "                            'ensemble__RF__criterion': ['gini', 'entropy'],\n",
              "                            'ensemble__RF__max_depth': [7, 14]},\n",
              "                pre_dispatch='2*n_jobs', refit=True, return_train_score=True,\n",
              "                scoring=None, verbose=0),\n",
              "   GridSearchCV(cv=None, error_score=nan,\n",
              "                estimator=Pipeline(memory=None,\n",
              "                                   steps=[('ensemble',\n",
              "                                           VotingClassifier(estimators=[('KNN',\n",
              "                                                                         KNeighborsClassifier(algorithm='auto',\n",
              "                                                                                              leaf_size=30,\n",
              "                                                                                              metric='minkowski',\n",
              "                                                                                              metric_params=None,\n",
              "                                                                                              n_jobs=None,\n",
              "                                                                                              n_neighbors=5,\n",
              "                                                                                              p=2,\n",
              "                                                                                              weights='uniform')),\n",
              "                                                                        ('TREE',\n",
              "                                                                         DecisionTreeClassifier(ccp_alpha=0.0,\n",
              "                                                                                                class_weight=None,\n",
              "                                                                                                criterion='gini',\n",
              "                                                                                                max_dept...\n",
              "                                                                                                random_state=None,\n",
              "                                                                                                verbose=0,\n",
              "                                                                                                warm_start=False))],\n",
              "                                                            flatten_transform=True,\n",
              "                                                            n_jobs=-1,\n",
              "                                                            voting='hard',\n",
              "                                                            weights=None))],\n",
              "                                   verbose=False),\n",
              "                iid='deprecated', n_jobs=-1,\n",
              "                param_grid={'ensemble__KNN__n_neighbors': [7, 14],\n",
              "                            'ensemble__RF__criterion': ['gini', 'entropy'],\n",
              "                            'ensemble__RF__max_depth': [7, 14]},\n",
              "                pre_dispatch='2*n_jobs', refit=True, return_train_score=True,\n",
              "                scoring=None, verbose=0)),\n",
              "  'fit_time': array([238.17792225, 239.14412856, 239.44224191, 241.78710389,\n",
              "         239.77240086]),\n",
              "  'score_time': array([0.79793048, 0.88486552, 0.88160157, 0.89508057, 0.83643198]),\n",
              "  'test_score': array([0.70361905, 0.69885714, 0.69980952, 0.69780952, 0.69638095])},\n",
              " 0.6992952380952381)"
            ]
          },
          "metadata": {
            "tags": []
          },
          "execution_count": 7
        }
      ]
    },
    {
      "cell_type": "code",
      "metadata": {
        "colab": {
          "base_uri": "https://localhost:8080/"
        },
        "id": "hrUk4dGViQt7",
        "outputId": "3279e5b5-3374-43a7-8936-4f7c1a30453d"
      },
      "source": [
        "classificador = scores_vt['estimator'][np.argmax(scores_vt['test_score'])].best_estimator_\n",
        "ypred = classificador.predict(X_test)\n",
        "acertos = y_test == ypred\n",
        "acertos, sum(acertos)/len(acertos)"
      ],
      "execution_count": 10,
      "outputs": [
        {
          "output_type": "execute_result",
          "data": {
            "text/plain": [
              "(65573    False\n",
              " 34803    False\n",
              " 53398    False\n",
              " 11430     True\n",
              " 39980     True\n",
              "          ...  \n",
              " 20432    False\n",
              " 35961    False\n",
              " 6594      True\n",
              " 41088     True\n",
              " 48704     True\n",
              " Name: cardio, Length: 17500, dtype: bool, 0.6966285714285714)"
            ]
          },
          "metadata": {
            "tags": []
          },
          "execution_count": 10
        }
      ]
    },
    {
      "cell_type": "markdown",
      "metadata": {
        "id": "gDzmGiAaiZdF"
      },
      "source": [
        "Stacking"
      ]
    },
    {
      "cell_type": "code",
      "metadata": {
        "colab": {
          "base_uri": "https://localhost:8080/"
        },
        "id": "S-nkK8A0iYuV",
        "outputId": "fc9474f9-f0d3-4b56-c32d-1895c157d542"
      },
      "source": [
        "import warnings\n",
        "from xgboost import XGBClassifier\n",
        "warnings.filterwarnings('ignore')\n",
        "estimadores =  XGBClassifier(n_jobs=-1)\n",
        "pipeline = Pipeline([('ensemble', estimadores)])\n",
        "parametros = {'ensemble__use_label_encoder':[True, False]}\n",
        "modelo_parametrizado = GridSearchCV(pipeline, param_grid=parametros, return_train_score = True, n_jobs=-1)\n",
        "scores_stacking = cross_validate(modelo_parametrizado, X_train, y_train, return_estimator=True)\n",
        "scores_stacking, np.mean(scores_stacking['test_score'])"
      ],
      "execution_count": 13,
      "outputs": [
        {
          "output_type": "execute_result",
          "data": {
            "text/plain": [
              "({'estimator': (GridSearchCV(cv=None, error_score=nan,\n",
              "                estimator=Pipeline(memory=None,\n",
              "                                   steps=[('ensemble',\n",
              "                                           XGBClassifier(base_score=0.5,\n",
              "                                                         booster='gbtree',\n",
              "                                                         colsample_bylevel=1,\n",
              "                                                         colsample_bynode=1,\n",
              "                                                         colsample_bytree=1,\n",
              "                                                         gamma=0,\n",
              "                                                         learning_rate=0.1,\n",
              "                                                         max_delta_step=0,\n",
              "                                                         max_depth=3,\n",
              "                                                         min_child_weight=1,\n",
              "                                                         missing=None,\n",
              "                                                         n_estimators=100,\n",
              "                                                         n_jobs=-1, nthread=None,\n",
              "                                                         objective='binary:logistic',\n",
              "                                                         random_state=0,\n",
              "                                                         reg_alpha=0, reg_lambda=1,\n",
              "                                                         scale_pos_weight=1,\n",
              "                                                         seed=None, silent=None,\n",
              "                                                         subsample=1,\n",
              "                                                         verbosity=1))],\n",
              "                                   verbose=False),\n",
              "                iid='deprecated', n_jobs=-1,\n",
              "                param_grid={'ensemble__use_label_encoder': [True, False]},\n",
              "                pre_dispatch='2*n_jobs', refit=True, return_train_score=True,\n",
              "                scoring=None, verbose=0),\n",
              "   GridSearchCV(cv=None, error_score=nan,\n",
              "                estimator=Pipeline(memory=None,\n",
              "                                   steps=[('ensemble',\n",
              "                                           XGBClassifier(base_score=0.5,\n",
              "                                                         booster='gbtree',\n",
              "                                                         colsample_bylevel=1,\n",
              "                                                         colsample_bynode=1,\n",
              "                                                         colsample_bytree=1,\n",
              "                                                         gamma=0,\n",
              "                                                         learning_rate=0.1,\n",
              "                                                         max_delta_step=0,\n",
              "                                                         max_depth=3,\n",
              "                                                         min_child_weight=1,\n",
              "                                                         missing=None,\n",
              "                                                         n_estimators=100,\n",
              "                                                         n_jobs=-1, nthread=None,\n",
              "                                                         objective='binary:logistic',\n",
              "                                                         random_state=0,\n",
              "                                                         reg_alpha=0, reg_lambda=1,\n",
              "                                                         scale_pos_weight=1,\n",
              "                                                         seed=None, silent=None,\n",
              "                                                         subsample=1,\n",
              "                                                         verbosity=1))],\n",
              "                                   verbose=False),\n",
              "                iid='deprecated', n_jobs=-1,\n",
              "                param_grid={'ensemble__use_label_encoder': [True, False]},\n",
              "                pre_dispatch='2*n_jobs', refit=True, return_train_score=True,\n",
              "                scoring=None, verbose=0),\n",
              "   GridSearchCV(cv=None, error_score=nan,\n",
              "                estimator=Pipeline(memory=None,\n",
              "                                   steps=[('ensemble',\n",
              "                                           XGBClassifier(base_score=0.5,\n",
              "                                                         booster='gbtree',\n",
              "                                                         colsample_bylevel=1,\n",
              "                                                         colsample_bynode=1,\n",
              "                                                         colsample_bytree=1,\n",
              "                                                         gamma=0,\n",
              "                                                         learning_rate=0.1,\n",
              "                                                         max_delta_step=0,\n",
              "                                                         max_depth=3,\n",
              "                                                         min_child_weight=1,\n",
              "                                                         missing=None,\n",
              "                                                         n_estimators=100,\n",
              "                                                         n_jobs=-1, nthread=None,\n",
              "                                                         objective='binary:logistic',\n",
              "                                                         random_state=0,\n",
              "                                                         reg_alpha=0, reg_lambda=1,\n",
              "                                                         scale_pos_weight=1,\n",
              "                                                         seed=None, silent=None,\n",
              "                                                         subsample=1,\n",
              "                                                         verbosity=1))],\n",
              "                                   verbose=False),\n",
              "                iid='deprecated', n_jobs=-1,\n",
              "                param_grid={'ensemble__use_label_encoder': [True, False]},\n",
              "                pre_dispatch='2*n_jobs', refit=True, return_train_score=True,\n",
              "                scoring=None, verbose=0),\n",
              "   GridSearchCV(cv=None, error_score=nan,\n",
              "                estimator=Pipeline(memory=None,\n",
              "                                   steps=[('ensemble',\n",
              "                                           XGBClassifier(base_score=0.5,\n",
              "                                                         booster='gbtree',\n",
              "                                                         colsample_bylevel=1,\n",
              "                                                         colsample_bynode=1,\n",
              "                                                         colsample_bytree=1,\n",
              "                                                         gamma=0,\n",
              "                                                         learning_rate=0.1,\n",
              "                                                         max_delta_step=0,\n",
              "                                                         max_depth=3,\n",
              "                                                         min_child_weight=1,\n",
              "                                                         missing=None,\n",
              "                                                         n_estimators=100,\n",
              "                                                         n_jobs=-1, nthread=None,\n",
              "                                                         objective='binary:logistic',\n",
              "                                                         random_state=0,\n",
              "                                                         reg_alpha=0, reg_lambda=1,\n",
              "                                                         scale_pos_weight=1,\n",
              "                                                         seed=None, silent=None,\n",
              "                                                         subsample=1,\n",
              "                                                         verbosity=1))],\n",
              "                                   verbose=False),\n",
              "                iid='deprecated', n_jobs=-1,\n",
              "                param_grid={'ensemble__use_label_encoder': [True, False]},\n",
              "                pre_dispatch='2*n_jobs', refit=True, return_train_score=True,\n",
              "                scoring=None, verbose=0),\n",
              "   GridSearchCV(cv=None, error_score=nan,\n",
              "                estimator=Pipeline(memory=None,\n",
              "                                   steps=[('ensemble',\n",
              "                                           XGBClassifier(base_score=0.5,\n",
              "                                                         booster='gbtree',\n",
              "                                                         colsample_bylevel=1,\n",
              "                                                         colsample_bynode=1,\n",
              "                                                         colsample_bytree=1,\n",
              "                                                         gamma=0,\n",
              "                                                         learning_rate=0.1,\n",
              "                                                         max_delta_step=0,\n",
              "                                                         max_depth=3,\n",
              "                                                         min_child_weight=1,\n",
              "                                                         missing=None,\n",
              "                                                         n_estimators=100,\n",
              "                                                         n_jobs=-1, nthread=None,\n",
              "                                                         objective='binary:logistic',\n",
              "                                                         random_state=0,\n",
              "                                                         reg_alpha=0, reg_lambda=1,\n",
              "                                                         scale_pos_weight=1,\n",
              "                                                         seed=None, silent=None,\n",
              "                                                         subsample=1,\n",
              "                                                         verbosity=1))],\n",
              "                                   verbose=False),\n",
              "                iid='deprecated', n_jobs=-1,\n",
              "                param_grid={'ensemble__use_label_encoder': [True, False]},\n",
              "                pre_dispatch='2*n_jobs', refit=True, return_train_score=True,\n",
              "                scoring=None, verbose=0)),\n",
              "  'fit_time': array([18.91214919, 18.80021214, 18.83101535, 18.85003209, 18.86503434]),\n",
              "  'score_time': array([0.02917433, 0.03001809, 0.02918029, 0.03268385, 0.02864337]),\n",
              "  'test_score': array([0.73657143, 0.73971429, 0.73571429, 0.73266667, 0.73409524])},\n",
              " 0.735752380952381)"
            ]
          },
          "metadata": {
            "tags": []
          },
          "execution_count": 13
        }
      ]
    },
    {
      "cell_type": "code",
      "metadata": {
        "colab": {
          "base_uri": "https://localhost:8080/"
        },
        "id": "nlJx-ayCinVD",
        "outputId": "9536f9a8-b709-4143-feba-9423dc5a7bbe"
      },
      "source": [
        "classificador = scores_stacking['estimator'][np.argmax(scores_stacking['test_score'])].best_estimator_\n",
        "ypred = classificador.predict(X_test)\n",
        "acertos = y_test == ypred\n",
        "acertos, sum(acertos)/len(acertos)"
      ],
      "execution_count": 14,
      "outputs": [
        {
          "output_type": "execute_result",
          "data": {
            "text/plain": [
              "(65573     True\n",
              " 34803    False\n",
              " 53398    False\n",
              " 11430     True\n",
              " 39980     True\n",
              "          ...  \n",
              " 20432     True\n",
              " 35961     True\n",
              " 6594     False\n",
              " 41088     True\n",
              " 48704     True\n",
              " Name: cardio, Length: 17500, dtype: bool, 0.7338285714285714)"
            ]
          },
          "metadata": {
            "tags": []
          },
          "execution_count": 14
        }
      ]
    }
  ]
}